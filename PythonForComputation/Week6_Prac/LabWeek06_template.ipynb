{
  "nbformat": 4,
  "nbformat_minor": 0,
  "metadata": {
    "colab": {
      "name": "LabWeek06_template.ipynb",
      "provenance": [],
      "collapsed_sections": []
    },
    "kernelspec": {
      "name": "python3",
      "display_name": "Python 3"
    }
  },
  "cells": [
    {
      "cell_type": "markdown",
      "metadata": {
        "colab_type": "text",
        "id": "F51lgmZiL6Ni"
      },
      "source": [
        "# **Question 1**"
      ]
    },
    {
      "cell_type": "code",
      "metadata": {
        "id": "1ZDDwTEYH1_f",
        "colab_type": "code",
        "colab": {}
      },
      "source": [
        "import csv\n",
        "import sqlite3\n",
        "import os\n",
        "import calendar\n"
      ],
      "execution_count": 0,
      "outputs": []
    },
    {
      "cell_type": "code",
      "metadata": {
        "id": "AI59Z14PIJy6",
        "colab_type": "code",
        "colab": {}
      },
      "source": [
        "def create_database(db_file):\n",
        "  pass"
      ],
      "execution_count": 0,
      "outputs": []
    },
    {
      "cell_type": "code",
      "metadata": {
        "id": "dPoYtxVaIRxr",
        "colab_type": "code",
        "colab": {}
      },
      "source": [
        "def clean_currency(currency_string):\n",
        "\tpass\n"
      ],
      "execution_count": 0,
      "outputs": []
    },
    {
      "cell_type": "code",
      "metadata": {
        "id": "hO1G3oR7IRPK",
        "colab_type": "code",
        "colab": {}
      },
      "source": [
        "def insert_records(db_file, records):\n",
        "  pass"
      ],
      "execution_count": 0,
      "outputs": []
    },
    {
      "cell_type": "code",
      "metadata": {
        "id": "yu6lJWFKJgI2",
        "colab_type": "code",
        "colab": {}
      },
      "source": [
        "def print_records(db_file):\n",
        "  pass"
      ],
      "execution_count": 0,
      "outputs": []
    },
    {
      "cell_type": "markdown",
      "metadata": {
        "id": "1ESUE65SLwGi",
        "colab_type": "text"
      },
      "source": [
        "# **Question 2**"
      ]
    },
    {
      "cell_type": "code",
      "metadata": {
        "id": "HLOjsTu0LuXu",
        "colab_type": "code",
        "colab": {}
      },
      "source": [
        "def total_spent(db_file):\n",
        "  pass"
      ],
      "execution_count": 0,
      "outputs": []
    },
    {
      "cell_type": "code",
      "metadata": {
        "id": "shqKg8MnMGaQ",
        "colab_type": "code",
        "colab": {}
      },
      "source": [
        "def total_spent_by_month(db_file):\n",
        "  pass"
      ],
      "execution_count": 0,
      "outputs": []
    },
    {
      "cell_type": "markdown",
      "metadata": {
        "colab_type": "text",
        "id": "bp63mDAbPkVk"
      },
      "source": [
        "# **Question 3**"
      ]
    },
    {
      "cell_type": "code",
      "metadata": {
        "id": "FiPP71EEPmVF",
        "colab_type": "code",
        "colab": {}
      },
      "source": [
        "def add_transaction(db_file):\n",
        "  pass"
      ],
      "execution_count": 0,
      "outputs": []
    },
    {
      "cell_type": "code",
      "metadata": {
        "id": "hoI62ImSQy4Q",
        "colab_type": "code",
        "colab": {}
      },
      "source": [
        "def delete_transaction(db_file, ID):\n",
        "  pass"
      ],
      "execution_count": 0,
      "outputs": []
    },
    {
      "cell_type": "markdown",
      "metadata": {
        "colab_type": "text",
        "id": "6ynSpOtFMB7J"
      },
      "source": [
        "# **Main**"
      ]
    },
    {
      "cell_type": "code",
      "metadata": {
        "id": "W0mKVyULIR0t",
        "colab_type": "code",
        "colab": {}
      },
      "source": [
        "##########\n",
        "# MAIN\n",
        "##########\n",
        "\n",
        "# QUESTION 1\n",
        "DB_FILE = \"PurchaseOrderTransactions.db\"\n",
        "\n",
        "# load the csv data into a list\n",
        "csv_file = \"purchase-orders.csv\" \n",
        "with open(csv_file) as f:\n",
        "\treader = csv.reader(f)\n",
        "\tDATA = [line for line in reader][1:]\n",
        "\n",
        "if not os.path.exists(DB_FILE):\n",
        "  create_database(DB_FILE)\n",
        "  insert_records(DB_FILE, DATA)\n",
        "\n",
        "# QUESTION 2\n",
        "total_spent(DB_FILE)\n",
        "total_spent_by_month(DB_FILE)\n",
        "\n",
        "# QUESTION 3\n",
        "delete_transaction(DB_FILE, 1)\n",
        "add_transaction(DB_FILE)\n",
        "\n",
        "\n",
        "print_records(DB_FILE)\n"
      ],
      "execution_count": 0,
      "outputs": []
    }
  ]
}
