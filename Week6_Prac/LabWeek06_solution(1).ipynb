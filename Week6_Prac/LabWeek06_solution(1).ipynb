{
  "nbformat": 4,
  "nbformat_minor": 0,
  "metadata": {
    "colab": {
      "name": "LabWeek06_solution.ipynb",
      "provenance": [],
      "collapsed_sections": []
    },
    "kernelspec": {
      "name": "python3",
      "display_name": "Python 3"
    }
  },
  "cells": [
    {
      "cell_type": "markdown",
      "metadata": {
        "colab_type": "text",
        "id": "F51lgmZiL6Ni"
      },
      "source": [
        "# **Question 1**"
      ]
    },
    {
      "cell_type": "code",
      "metadata": {
        "id": "1ZDDwTEYH1_f",
        "colab_type": "code",
        "colab": {}
      },
      "source": [
        "import csv\n",
        "import sqlite3\n",
        "import os\n",
        "import calendar\n"
      ],
      "execution_count": 0,
      "outputs": []
    },
    {
      "cell_type": "code",
      "metadata": {
        "id": "AI59Z14PIJy6",
        "colab_type": "code",
        "colab": {}
      },
      "source": [
        "def create_database(db_file):\n",
        "  \"\"\"Create the database and the PurchaseOrderTransactions table\"\"\"\n",
        "  \n",
        "  # create and connect to the database\n",
        "  db = sqlite3.connect(db_file)\n",
        "  cursor = db.cursor()\n",
        "  \n",
        "  # columns\n",
        "  c_1 = \"Transaction_id INTEGER PRIMARY KEY AUTOINCREMENT UNIQUE NOT NULL\"\n",
        "  c_2 = \"Organisation_Name TEXT NOT NULL\"\n",
        "  c_3 = \"Purchase_Order_Number TEXT NOT NULL\"\n",
        "  c_4 = \"Order_Date TEXT NOT NULL\"\n",
        "  c_5 = \"Total_Value NUMERIC NOT NULL\"\n",
        "  c_6 = \"Supplier_Name TEXT NOT NULL\"\n",
        "  c_7 = \"Account_Name TEXT NOT NULL\"\n",
        "  c_8 = \"Service TEXT NOT NULL\"\n",
        "  \n",
        "  sql_create_table = \"CREATE TABLE PurchaseOrderTransactions ({},{},{},{},{},{},{},{})\".format(c_1,c_2,c_3,c_4,c_5,c_6,c_7,c_8)\n",
        "  \n",
        "  try:\n",
        "    cursor.execute(sql_create_table)\n",
        "  except sqlite3.OperationalError:\n",
        "    print(\"{} already exists.\".format(db_file))\n",
        "  \n",
        "  db.commit()\n",
        "  db.close()"
      ],
      "execution_count": 0,
      "outputs": []
    },
    {
      "cell_type": "code",
      "metadata": {
        "id": "dPoYtxVaIRxr",
        "colab_type": "code",
        "colab": {}
      },
      "source": [
        "def clean_currency(currency_string):\n",
        "\t\"\"\"Converts the currency to a float.\"\"\"\n",
        "\n",
        "\t# get the number, strip the pound sign and comma\n",
        "\treturn float(currency_string[1:].replace(\",\",\"\"))\n"
      ],
      "execution_count": 0,
      "outputs": []
    },
    {
      "cell_type": "code",
      "metadata": {
        "id": "hO1G3oR7IRPK",
        "colab_type": "code",
        "colab": {}
      },
      "source": [
        "def insert_records(db_file, records):\n",
        "  \"\"\"Insert records into the table.\"\"\"\n",
        "  db = sqlite3.connect(db_file)\n",
        "  cursor = db.cursor()\n",
        "  \n",
        "  for row in records:\n",
        "    row[3] = clean_currency(row[3])\n",
        "    sql_insert = \"INSERT INTO PurchaseOrderTransactions(Organisation_Name, \\\n",
        "    Purchase_Order_Number, Order_Date, Total_Value, Supplier_Name, \\\n",
        "    Account_Name, Service) VALUES ('{}','{}','{}','{}','{}','{}','{}')\".format(*row)\n",
        "    cursor.execute(sql_insert)\n",
        "  \n",
        "  # commit the changes\n",
        "  db.commit()\n",
        "  cursor.close()"
      ],
      "execution_count": 0,
      "outputs": []
    },
    {
      "cell_type": "code",
      "metadata": {
        "id": "yu6lJWFKJgI2",
        "colab_type": "code",
        "colab": {}
      },
      "source": [
        "def print_records(db_file):\n",
        "  \"\"\"Print records in the table.\"\"\"\n",
        "  db = sqlite3.connect(db_file)\n",
        "  cursor = db.cursor()\n",
        "\n",
        "  sql_select = \"SELECT * FROM PurchaseOrderTransactions\"\n",
        "  cursor.execute(sql_select)\n",
        "  records=cursor.fetchall()\n",
        "\n",
        "  for r in records:\n",
        "    print(r)\n",
        "  cursor.close()"
      ],
      "execution_count": 0,
      "outputs": []
    },
    {
      "cell_type": "markdown",
      "metadata": {
        "id": "1ESUE65SLwGi",
        "colab_type": "text"
      },
      "source": [
        "# **Question 2**"
      ]
    },
    {
      "cell_type": "code",
      "metadata": {
        "id": "HLOjsTu0LuXu",
        "colab_type": "code",
        "colab": {}
      },
      "source": [
        "def total_spent(db_file):\n",
        "  db = sqlite3.connect(db_file)\n",
        "  cursor = db.cursor()\n",
        "  sql_query = \"SELECT Total_Value FROM PurchaseOrderTransactions\"\n",
        "  \n",
        "  total = 0\n",
        "  for row in cursor.execute(sql_query):\n",
        "    total += row[0]\n",
        "  total = round(total, 2)\n",
        "  print(\"Total spent : \" + str(total))\n",
        "  cursor.close()"
      ],
      "execution_count": 0,
      "outputs": []
    },
    {
      "cell_type": "code",
      "metadata": {
        "id": "shqKg8MnMGaQ",
        "colab_type": "code",
        "colab": {}
      },
      "source": [
        "def total_spent_by_month(db_file):\n",
        "  db = sqlite3.connect(db_file)\n",
        "  cursor = db.cursor()\n",
        "  \n",
        "  sql_query = \"SELECT Order_Date,Total_Value FROM PurchaseOrderTransactions\"\n",
        "  \n",
        "  result_dict = {}\n",
        "  for row in cursor.execute(sql_query):\n",
        "    date = row[0].split(\"/\")\n",
        "    month = calendar.month_name[int(date[1])]\n",
        "    year = date[2]\n",
        "    amount = row[1]\n",
        "    key = month + \" \" + year\n",
        "    if key in result_dict:\n",
        "      result_dict[key] += amount\n",
        "    else:\n",
        "      result_dict[key] = amount\n",
        "      \n",
        "  # this isn't guaranteed to be in order\n",
        "  for k,v in result_dict.items():\n",
        "    print(k + \" : \" + str(round(v,2)))\n",
        "  \n",
        "  cursor.close()"
      ],
      "execution_count": 0,
      "outputs": []
    },
    {
      "cell_type": "markdown",
      "metadata": {
        "colab_type": "text",
        "id": "bp63mDAbPkVk"
      },
      "source": [
        "# **Question 3**"
      ]
    },
    {
      "cell_type": "code",
      "metadata": {
        "id": "FiPP71EEPmVF",
        "colab_type": "code",
        "colab": {}
      },
      "source": [
        "def add_transaction(db_file):\n",
        "  db = sqlite3.connect(db_file)\n",
        "  cursor = db.cursor()\n",
        "  \n",
        "  row = []\n",
        "  row.append(input(\"Organisation Name: \"))\n",
        "  row.append(input(\"Purchase Order Number: \"))\n",
        "  row.append(input(\"Order Date (dd/mm/yyyy): \"))\n",
        "  row.append(input(\"Total Value (number): \"))\n",
        "  row.append(input(\"Supplier Name: \"))\n",
        "  row.append(input(\"Account Name: \"))\n",
        "  row.append(input(\"Service: \"))\n",
        "  sql_insert = \"INSERT INTO PurchaseOrderTransactions(Organisation_Name, \\\n",
        "    Purchase_Order_Number, Order_Date, Total_Value, Supplier_Name, \\\n",
        "    Account_Name, Service) VALUES ('{}','{}','{}','{}','{}','{}','{}')\".format(*row)\n",
        "  cursor.execute(sql_insert)\n",
        "  db.commit()\n",
        "  cursor.close()"
      ],
      "execution_count": 0,
      "outputs": []
    },
    {
      "cell_type": "code",
      "metadata": {
        "id": "hoI62ImSQy4Q",
        "colab_type": "code",
        "colab": {}
      },
      "source": [
        "def delete_transaction(db_file, ID):\n",
        "  db = sqlite3.connect(db_file)\n",
        "  cursor = db.cursor()\n",
        "  cursor.execute(\"DELETE FROM PurchaseOrderTransactions WHERE Transaction_id=\"+str(ID))\n",
        "  db.commit()\n",
        "  cursor.close()"
      ],
      "execution_count": 0,
      "outputs": []
    },
    {
      "cell_type": "markdown",
      "metadata": {
        "colab_type": "text",
        "id": "6ynSpOtFMB7J"
      },
      "source": [
        "# **Main**"
      ]
    },
    {
      "cell_type": "code",
      "metadata": {
        "id": "W0mKVyULIR0t",
        "colab_type": "code",
        "colab": {}
      },
      "source": [
        "##########\n",
        "# MAIN\n",
        "##########\n",
        "\n",
        "# QUESTION 1\n",
        "DB_FILE = \"PurchaseOrderTransactions.db\"\n",
        "\n",
        "# load the csv data into a list\n",
        "csv_file = \"purchase-orders.csv\" \n",
        "with open(csv_file) as f:\n",
        "\treader = csv.reader(f)\n",
        "\tDATA = [line for line in reader][1:]\n",
        "\n",
        "if not os.path.exists(DB_FILE):\n",
        "  create_database(DB_FILE)\n",
        "  insert_records(DB_FILE, DATA)\n",
        "\n",
        "# QUESTION 2\n",
        "total_spent(DB_FILE)\n",
        "total_spent_by_month(DB_FILE)\n",
        "\n",
        "# QUESTION 3\n",
        "delete_transaction(DB_FILE, 1)\n",
        "add_transaction(DB_FILE)\n",
        "\n",
        "\n",
        "print_records(DB_FILE)\n"
      ],
      "execution_count": 0,
      "outputs": []
    }
  ]
}